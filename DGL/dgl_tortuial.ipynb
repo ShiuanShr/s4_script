{
 "cells": [
  {
   "cell_type": "code",
   "execution_count": 16,
   "metadata": {},
   "outputs": [],
   "source": [
    "import dgl\n",
    "import torch\n",
    "import numpy as np "
   ]
  },
  {
   "cell_type": "code",
   "execution_count": 6,
   "metadata": {},
   "outputs": [
    {
     "name": "stdout",
     "output_type": "stream",
     "text": [
      "Graph(num_nodes=5, num_edges=16,\n",
      "      ndata_schemes={}\n",
      "      edata_schemes={})\n"
     ]
    }
   ],
   "source": [
    "# Make bidirected graph\n",
    "\n",
    "# 方法1\n",
    "src_node_id = torch.tensor([0,0,0,1,1,2,2,3, 1,2,4,2,3,3,4,4])\n",
    "dist_node_id = torch.tensor([1,2,4,2,3,3,4,4,0,0,0,1,1,2,2,3])\n",
    "undir_graph = dgl.graph((src_node_id,dist_node_id))\n",
    "print(undir_graph)\n",
    "\n",
    "\n",
    "# 方法2\n",
    "src_node_id = torch.tensor([0,0,0,1,1,2,2,3])\n",
    "dist_node_id = torch.tensor([1,2,4,2,3,3,4,4])\n",
    "graph = dgl.graph((src_node_id,dist_node_id))\n",
    "# graph.edges(form ='all') is src_node_id, dist_node_id, node_index \n",
    "print(f\"graph.edges: {graph.edges(form ='all')}\")\n",
    "\n",
    "undirected_graph_new = dgl.to_bidirected(graph)\n",
    "print(undirected_graph_new)"
   ]
  },
  {
   "cell_type": "code",
   "execution_count": 15,
   "metadata": {},
   "outputs": [
    {
     "name": "stdout",
     "output_type": "stream",
     "text": [
      "graph.idtype: torch.int64\n",
      "graph_32.idtype: torch.int32\n",
      "graph_64.idtype: torch.int64\n"
     ]
    }
   ],
   "source": [
    "# check the dta type\n",
    "\n",
    "print(f\"graph.idtype: {graph.idtype}\") # 32-bit/ 64 bit\n",
    "# 2^32: (0) -  (2^32 -1) / (0) - (2^64-1)\n",
    "# 2^32= 4,294,967,296, the amount of node id\n",
    "# 2^64= 18,446,744,073,709,551,616, the amount of node id\n",
    "graph_32 = graph.int()\n",
    "print(f\"graph_32.idtype: {graph_32.idtype}\")\n",
    "\n",
    "graph_64 = graph_32.long()\n",
    "print(f\"graph_64.idtype: {graph_64.idtype}\")\n",
    "\n"
   ]
  },
  {
   "cell_type": "markdown",
   "metadata": {},
   "source": [
    "Can we use Python iterables & Numpy to replace tensor?\n",
    "可以, 但是tensor is prefered, 因為更快\n",
    "- internal storage in C and explicit data type & device context info"
   ]
  },
  {
   "cell_type": "code",
   "execution_count": 17,
   "metadata": {},
   "outputs": [
    {
     "name": "stdout",
     "output_type": "stream",
     "text": [
      "Graph(num_nodes=5, num_edges=8,\n",
      "      ndata_schemes={}\n",
      "      edata_schemes={})\n"
     ]
    }
   ],
   "source": [
    "np.array\n",
    "\n",
    "src_node_id = np.array([0,0,0,1,1,2,2,3])\n",
    "dist_node_id = np.array([1,2,4,2,3,3,4,4])\n",
    "graph_np = dgl.graph((src_node_id,dist_node_id))\n",
    "print(graph_np)"
   ]
  },
  {
   "cell_type": "code",
   "execution_count": 18,
   "metadata": {},
   "outputs": [
    {
     "data": {
      "text/plain": [
       "tensor([0, 1, 2, 3, 4])"
      ]
     },
     "execution_count": 18,
     "metadata": {},
     "output_type": "execute_result"
    }
   ],
   "source": [
    "graph_np.nodes()"
   ]
  },
  {
   "cell_type": "code",
   "execution_count": null,
   "metadata": {},
   "outputs": [],
   "source": []
  },
  {
   "cell_type": "code",
   "execution_count": null,
   "metadata": {},
   "outputs": [],
   "source": []
  }
 ],
 "metadata": {
  "kernelspec": {
   "display_name": "Python 3",
   "language": "python",
   "name": "python3"
  },
  "language_info": {
   "codemirror_mode": {
    "name": "ipython",
    "version": 3
   },
   "file_extension": ".py",
   "mimetype": "text/x-python",
   "name": "python",
   "nbconvert_exporter": "python",
   "pygments_lexer": "ipython3",
   "version": "0.0.0"
  }
 },
 "nbformat": 4,
 "nbformat_minor": 2
}
